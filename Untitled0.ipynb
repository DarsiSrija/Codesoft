{
  "nbformat": 4,
  "nbformat_minor": 0,
  "metadata": {
    "colab": {
      "provenance": [],
      "authorship_tag": "ABX9TyO5P5xGjSF96jSk51xAfjdr",
      "include_colab_link": true
    },
    "kernelspec": {
      "name": "python3",
      "display_name": "Python 3"
    },
    "language_info": {
      "name": "python"
    }
  },
  "cells": [
    {
      "cell_type": "markdown",
      "metadata": {
        "id": "view-in-github",
        "colab_type": "text"
      },
      "source": [
        "<a href=\"https://colab.research.google.com/github/DarsiSrija/Codesoft/blob/main/Untitled0.ipynb\" target=\"_parent\"><img src=\"https://colab.research.google.com/assets/colab-badge.svg\" alt=\"Open In Colab\"/></a>"
      ]
    },
    {
      "cell_type": "code",
      "execution_count": null,
      "metadata": {
        "colab": {
          "base_uri": "https://localhost:8080/"
        },
        "id": "yh8_UiIEwfcV",
        "outputId": "b8fc1b5e-3e2b-4e72-c0e9-5147f28c1413"
      },
      "outputs": [
        {
          "output_type": "stream",
          "name": "stdout",
          "text": [
            "Enter your choice (rock, paper, scissors): paper\n",
            "\n",
            "You chose: paper\n",
            "Computer chose: paper\n",
            "Result: It's a tie!\n",
            "\n",
            "Score: You 0 - Computer 0\n",
            "\n",
            "Do you want to play again? (yes/no): yes\n",
            "Enter your choice (rock, paper, scissors): rock\n",
            "\n",
            "You chose: rock\n",
            "Computer chose: rock\n",
            "Result: It's a tie!\n",
            "\n",
            "Score: You 0 - Computer 0\n",
            "\n",
            "Do you want to play again? (yes/no): yes\n",
            "Enter your choice (rock, paper, scissors): paper\n",
            "\n",
            "You chose: paper\n",
            "Computer chose: paper\n",
            "Result: It's a tie!\n",
            "\n",
            "Score: You 0 - Computer 0\n",
            "\n",
            "Do you want to play again? (yes/no): no\n",
            "Thanks for playing!\n"
          ]
        }
      ],
      "source": [
        "import random\n",
        "\n",
        "def get_computer_choice():\n",
        "    return random.choice(['rock', 'paper', 'scissors'])\n",
        "\n",
        "def get_user_choice():\n",
        "    while True:\n",
        "        user_input = input(\"Enter your choice (rock, paper, scissors): \").lower()\n",
        "        if user_input in ['rock', 'paper', 'scissors']:\n",
        "            return user_input\n",
        "        print(\"Invalid choice. Please try again.\")\n",
        "\n",
        "def determine_winner(user_choice, computer_choice):\n",
        "    if user_choice == computer_choice:\n",
        "        return \"It's a tie!\"\n",
        "    if (user_choice == 'rock' and computer_choice == 'scissors') or \\\n",
        "       (user_choice == 'scissors' and computer_choice == 'paper') or \\\n",
        "       (user_choice == 'paper' and computer_choice == 'rock'):\n",
        "        return \"You win!\"\n",
        "    return \"Computer wins!\"\n",
        "\n",
        "def display_results(user_choice, computer_choice, result):\n",
        "    print(f\"\\nYou chose: {user_choice}\")\n",
        "    print(f\"Computer chose: {computer_choice}\")\n",
        "    print(f\"Result: {result}\\n\")\n",
        "\n",
        "def play_again():\n",
        "    while True:\n",
        "        again = input(\"Do you want to play again? (yes/no): \").lower()\n",
        "        if again in ['yes', 'no']:\n",
        "            return again == 'yes'\n",
        "        print(\"Invalid input. Please enter 'yes' or 'no'.\")\n",
        "\n",
        "def play_game():\n",
        "    user_score = 0\n",
        "    computer_score = 0\n",
        "\n",
        "    while True:\n",
        "        user_choice = get_user_choice()\n",
        "        computer_choice = get_computer_choice()\n",
        "        result = determine_winner(user_choice, computer_choice)\n",
        "\n",
        "        display_results(user_choice, computer_choice, result)\n",
        "\n",
        "        if result == \"You win!\":\n",
        "            user_score += 1\n",
        "        elif result == \"Computer wins!\":\n",
        "            computer_score += 1\n",
        "\n",
        "        print(f\"Score: You {user_score} - Computer {computer_score}\\n\")\n",
        "\n",
        "        if not play_again():\n",
        "            print(\"Thanks for playing!\")\n",
        "            break\n",
        "\n",
        "if __name__ == \"__main__\":\n",
        "    play_game()\n"
      ]
    },
    {
      "cell_type": "markdown",
      "source": [
        "# New Section"
      ],
      "metadata": {
        "id": "JY-m8LKa0VZI"
      }
    },
    {
      "cell_type": "code",
      "source": [
        "def main():\n",
        "    tasks = []\n",
        "\n",
        "    while True:\n",
        "        print(\"\\n===== To-Do List =====\")\n",
        "        print(\"1. Add Task\")\n",
        "        print(\"2. Show Tasks\")\n",
        "        print(\"3. Mark Task as Done\")\n",
        "        print(\"4. Exit\")\n",
        "\n",
        "        choice = input(\"Enter your choice: \")\n",
        "\n",
        "        if choice == '1':\n",
        "            try:\n",
        "                n_tasks = int(input(\"How many tasks do you want to add: \"))\n",
        "                if n_tasks <= 0:\n",
        "                    print(\"Number of tasks must be a positive integer.\")\n",
        "                    continue\n",
        "\n",
        "                for i in range(n_tasks):\n",
        "                    task = input(\"Enter the task: \")\n",
        "                    tasks.append({\"task\": task, \"done\": False})\n",
        "                    print(\"Task added!\")\n",
        "            except ValueError:\n",
        "                print(\"Please enter a valid number.\")\n",
        "\n",
        "        elif choice == '2':\n",
        "            print(\"\\nTasks:\")\n",
        "            if not tasks:\n",
        "                print(\"No tasks in the list.\")\n",
        "            else:\n",
        "                for index, task in enumerate(tasks):\n",
        "                    status = \"Done\" if task[\"done\"] else \"Not Done\"\n",
        "                    print(f\"{index + 1}. {task['task']} - {status}\")\n",
        "\n",
        "        elif choice == '3':\n",
        "            try:\n",
        "                task_index = int(input(\"Enter the task number to mark as done: \")) - 1\n",
        "                if 0 <= task_index < len(tasks):\n",
        "                    tasks[task_index][\"done\"] = True\n",
        "                    print(\"Task marked as done!\")\n",
        "                else:\n",
        "                    print(\"Invalid task number.\")\n",
        "            except ValueError:\n",
        "                print(\"Please enter a valid number.\")\n",
        "\n",
        "        elif choice == '4':\n",
        "            print(\"Exiting the To-Do List.\")\n",
        "            break\n",
        "\n",
        "        else:\n",
        "            print(\"Invalid choice. Please try again.\")\n",
        "\n",
        "if __name__ == \"__main__\":\n",
        "    main()\n"
      ],
      "metadata": {
        "colab": {
          "base_uri": "https://localhost:8080/"
        },
        "id": "MfOSI8cwyADt",
        "outputId": "9e5f5d3f-ef9f-4978-f87b-b982da54959e"
      },
      "execution_count": null,
      "outputs": [
        {
          "output_type": "stream",
          "name": "stdout",
          "text": [
            "\n",
            "===== To-Do List =====\n",
            "1. Add Task\n",
            "2. Show Tasks\n",
            "3. Mark Task as Done\n",
            "4. Exit\n",
            "Enter your choice: 3\n",
            "Enter the task number to mark as done: 1\n",
            "Invalid task number.\n",
            "\n",
            "===== To-Do List =====\n",
            "1. Add Task\n",
            "2. Show Tasks\n",
            "3. Mark Task as Done\n",
            "4. Exit\n",
            "Enter your choice: 1\n",
            "How many tasks do you want to add: 1\n",
            "Enter the task: 2\n",
            "Task added!\n",
            "\n",
            "===== To-Do List =====\n",
            "1. Add Task\n",
            "2. Show Tasks\n",
            "3. Mark Task as Done\n",
            "4. Exit\n",
            "Enter your choice: 4\n",
            "Exiting the To-Do List.\n"
          ]
        }
      ]
    },
    {
      "cell_type": "code",
      "source": [],
      "metadata": {
        "id": "iv8GdVPKxv78"
      },
      "execution_count": null,
      "outputs": []
    }
  ]
}