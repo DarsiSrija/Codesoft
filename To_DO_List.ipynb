{
  "nbformat": 4,
  "nbformat_minor": 0,
  "metadata": {
    "colab": {
      "provenance": [],
      "authorship_tag": "ABX9TyP49vmLlOKLvWkcl8MIWzPm",
      "include_colab_link": true
    },
    "kernelspec": {
      "name": "python3",
      "display_name": "Python 3"
    },
    "language_info": {
      "name": "python"
    }
  },
  "cells": [
    {
      "cell_type": "markdown",
      "metadata": {
        "id": "view-in-github",
        "colab_type": "text"
      },
      "source": [
        "<a href=\"https://colab.research.google.com/github/DarsiSrija/Codesoft/blob/main/To_DO_List.ipynb\" target=\"_parent\"><img src=\"https://colab.research.google.com/assets/colab-badge.svg\" alt=\"Open In Colab\"/></a>"
      ]
    },
    {
      "cell_type": "code",
      "execution_count": 6,
      "metadata": {
        "colab": {
          "base_uri": "https://localhost:8080/"
        },
        "id": "yh8_UiIEwfcV",
        "outputId": "e77967c4-9775-421d-c354-4e80ea3bdb39"
      },
      "outputs": [
        {
          "output_type": "stream",
          "name": "stdout",
          "text": [
            "\n",
            "===== To-Do List =====\n",
            "1. Add Task\n",
            "2. Show Tasks\n",
            "3. Mark Task as Done\n",
            "4. Exit\n",
            "Enter your choice: \n",
            "Invalid choice. Please try again.\n",
            "\n",
            "===== To-Do List =====\n",
            "1. Add Task\n",
            "2. Show Tasks\n",
            "3. Mark Task as Done\n",
            "4. Exit\n",
            "Enter your choice: 4\n",
            "Exiting the To-Do List.\n"
          ]
        }
      ],
      "source": [
        "def main():\n",
        "    tasks = []\n",
        "\n",
        "    while True:\n",
        "        print(\"\\n===== To-Do List =====\")\n",
        "        print(\"1. Add Task\")\n",
        "        print(\"2. Show Tasks\")\n",
        "        print(\"3. Mark Task as Done\")\n",
        "        print(\"4. Exit\")\n",
        "\n",
        "        choice = input(\"Enter your choice: \")\n",
        "\n",
        "        if choice == '1':\n",
        "            try:\n",
        "                n_tasks = int(input(\"How many tasks do you want to add: \"))\n",
        "                if n_tasks <= 0:\n",
        "                    print(\"Number of tasks must be a positive integer.\")\n",
        "                    continue\n",
        "\n",
        "                for i in range(n_tasks):\n",
        "                    task = input(\"Enter the task: \")\n",
        "                    tasks.append({\"task\": task, \"done\": False})\n",
        "                    print(\"Task added!\")\n",
        "            except ValueError:\n",
        "                print(\"Please enter a valid number.\")\n",
        "\n",
        "        elif choice == '2':\n",
        "            print(\"\\nTasks:\")\n",
        "            if not tasks:\n",
        "                print(\"No tasks in the list.\")\n",
        "            else:\n",
        "                for index, task in enumerate(tasks):\n",
        "                    status = \"Done\" if task[\"done\"] else \"Not Done\"\n",
        "                    print(f\"{index + 1}. {task['task']} - {status}\")\n",
        "\n",
        "        elif choice == '3':\n",
        "            try:\n",
        "                task_index = int(input(\"Enter the task number to mark as done: \")) - 1\n",
        "                if 0 <= task_index < len(tasks):\n",
        "                    tasks[task_index][\"done\"] = True\n",
        "                    print(\"Task marked as done!\")\n",
        "                else:\n",
        "                    print(\"Invalid task number.\")\n",
        "            except ValueError:\n",
        "                print(\"Please enter a valid number.\")\n",
        "\n",
        "        elif choice == '4':\n",
        "            print(\"Exiting the To-Do List.\")\n",
        "            break\n",
        "\n",
        "        else:\n",
        "            print(\"Invalid choice. Please try again.\")\n",
        "\n",
        "if __name__ == \"__main__\":\n",
        "    main()\n"
      ]
    },
    {
      "cell_type": "markdown",
      "source": [
        "# New Section"
      ],
      "metadata": {
        "id": "JY-m8LKa0VZI"
      }
    },
    {
      "cell_type": "code",
      "source": [],
      "metadata": {
        "id": "MfOSI8cwyADt"
      },
      "execution_count": 5,
      "outputs": []
    },
    {
      "cell_type": "code",
      "source": [],
      "metadata": {
        "id": "iv8GdVPKxv78"
      },
      "execution_count": null,
      "outputs": []
    }
  ]
}